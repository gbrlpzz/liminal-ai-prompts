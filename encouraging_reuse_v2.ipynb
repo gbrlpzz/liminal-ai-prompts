{
  "cells": [
    {
      "cell_type": "markdown",
      "metadata": {
        "id": "view-in-github",
        "colab_type": "text"
      },
      "source": [
        "<a href=\"https://colab.research.google.com/github/gbrlpzz/liminal-ai-prompts/blob/main/encouraging_reuse_v2.ipynb\" target=\"_parent\"><img src=\"https://colab.research.google.com/assets/colab-badge.svg\" alt=\"Open In Colab\"/></a>"
      ]
    },
    {
      "cell_type": "markdown",
      "source": [
        "Imports"
      ],
      "metadata": {
        "id": "L42sCvXdJaVp"
      }
    },
    {
      "cell_type": "code",
      "execution_count": 41,
      "metadata": {
        "id": "AffrgeQtLVNy",
        "colab": {
          "base_uri": "https://localhost:8080/"
        },
        "outputId": "80413c35-f9f5-40e1-ffa2-ae788bbbe67c"
      },
      "outputs": [
        {
          "output_type": "stream",
          "name": "stdout",
          "text": [
            "google-generativeai version: 0.7.2\n"
          ]
        }
      ],
      "source": [
        "import os\n",
        "import json\n",
        "from PIL import Image\n",
        "import google.generativeai as genai\n",
        "from google.colab import userdata\n",
        "import re\n",
        "print(f\"google-generativeai version: {genai.__version__}\")"
      ]
    },
    {
      "cell_type": "markdown",
      "source": [
        "Load Drive"
      ],
      "metadata": {
        "id": "5g3eSD9TSi4a"
      }
    },
    {
      "cell_type": "code",
      "source": [
        "from google.colab import drive\n",
        "drive.mount('/content/drive')"
      ],
      "metadata": {
        "id": "GmmRGchuSUhg",
        "colab": {
          "base_uri": "https://localhost:8080/"
        },
        "outputId": "4e0ca35c-30d4-4c33-e848-124eae120416"
      },
      "execution_count": 42,
      "outputs": [
        {
          "output_type": "stream",
          "name": "stdout",
          "text": [
            "Drive already mounted at /content/drive; to attempt to forcibly remount, call drive.mount(\"/content/drive\", force_remount=True).\n"
          ]
        }
      ]
    },
    {
      "cell_type": "markdown",
      "source": [
        "API Key"
      ],
      "metadata": {
        "id": "we5dIBf1JgAd"
      }
    },
    {
      "cell_type": "code",
      "execution_count": 43,
      "metadata": {
        "colab": {
          "base_uri": "https://localhost:8080/"
        },
        "id": "tFjNkqSFLZPf",
        "outputId": "ec642df3-f0b0-4254-f8e4-da11edecc9eb"
      },
      "outputs": [
        {
          "output_type": "stream",
          "name": "stdout",
          "text": [
            "API Key (first 5 chars): AIzaS...\n"
          ]
        }
      ],
      "source": [
        "GOOGLE_API_KEY = userdata.get('KEY')\n",
        "genai.configure(api_key=GOOGLE_API_KEY)\n",
        "print(f\"API Key (first 5 chars): {GOOGLE_API_KEY[:5]}...\")"
      ]
    },
    {
      "cell_type": "markdown",
      "source": [
        "Test Connection and Load Model List"
      ],
      "metadata": {
        "id": "KiJEqxGRTcS9"
      }
    },
    {
      "cell_type": "code",
      "execution_count": 44,
      "metadata": {
        "colab": {
          "base_uri": "https://localhost:8080/",
          "height": 392
        },
        "id": "bZyHNPQ5LcdU",
        "outputId": "631c25ed-6e98-4a1b-aa40-8cde3c395cb0",
        "collapsed": true
      },
      "outputs": [
        {
          "output_type": "stream",
          "name": "stdout",
          "text": [
            "Number of models available: 20\n",
            "- models/chat-bison-001\n",
            "- models/text-bison-001\n",
            "- models/embedding-gecko-001\n",
            "- models/gemini-1.0-pro-latest\n",
            "- models/gemini-1.0-pro\n",
            "- models/gemini-pro\n",
            "- models/gemini-1.0-pro-001\n",
            "- models/gemini-1.0-pro-vision-latest\n",
            "- models/gemini-pro-vision\n",
            "- models/gemini-1.5-pro-latest\n",
            "- models/gemini-1.5-pro-001\n",
            "- models/gemini-1.5-pro\n",
            "- models/gemini-1.5-pro-exp-0801\n",
            "- models/gemini-1.5-flash-latest\n",
            "- models/gemini-1.5-flash-001\n",
            "- models/gemini-1.5-flash\n",
            "- models/gemini-1.5-flash-001-tuning\n",
            "- models/embedding-001\n",
            "- models/text-embedding-004\n",
            "- models/aqa\n"
          ]
        }
      ],
      "source": [
        "try:\n",
        "    models = list(genai.list_models())\n",
        "    print(f\"Number of models available: {len(models)}\")\n",
        "    for model in models:\n",
        "        print(f\"- {model.name}\")\n",
        "except Exception as e:\n",
        "    print(f\"Error listing models: {str(e)}\")"
      ]
    },
    {
      "cell_type": "markdown",
      "source": [],
      "metadata": {
        "id": "-G-mAuQ6kZZA"
      }
    },
    {
      "cell_type": "markdown",
      "source": [
        "Load Model"
      ],
      "metadata": {
        "id": "B3uMyg6GJmnG"
      }
    },
    {
      "cell_type": "code",
      "execution_count": 45,
      "metadata": {
        "colab": {
          "base_uri": "https://localhost:8080/"
        },
        "id": "1vVTj__CLyjk",
        "outputId": "737b7da1-b2ac-4479-e487-dd649121b123"
      },
      "outputs": [
        {
          "output_type": "stream",
          "name": "stdout",
          "text": [
            "Model initialized successfully\n"
          ]
        }
      ],
      "source": [
        "try:\n",
        "    model = genai.GenerativeModel('gemini-1.5-pro-latest')\n",
        "    print(\"Model initialized successfully\")\n",
        "except Exception as e:\n",
        "    print(f\"Error initializing model: {str(e)}\")"
      ]
    },
    {
      "cell_type": "markdown",
      "source": [
        "Analyze Image"
      ],
      "metadata": {
        "id": "2UVXTg2GJtPv"
      }
    },
    {
      "cell_type": "code",
      "execution_count": 46,
      "metadata": {
        "id": "0zvTncwBUC7m"
      },
      "outputs": [],
      "source": [
        "def analyze_image(image):\n",
        "    try:\n",
        "        model = genai.GenerativeModel('gemini-1.5-pro-latest')\n",
        "        prompt = \"\"\"\n",
        "        Analyze this image of a building and answer the following questions. For each question, choose ONLY from the provided options without providing any additional text:\n",
        "\n",
        "        1. Person present: FALSE or TRUE\n",
        "        2. Dogs/Pets present: FALSE or TRUE\n",
        "        3. Livestock present: FALSE or TRUE\n",
        "        4. Sounds present inside: FALSE or TRUE\n",
        "        5. Lights present inside: FALSE or TRUE\n",
        "        6. Collapsed Roof: FALSE or TRUE\n",
        "        7. Windows: \"No - Close (if all)\" or \"Yes - Open (if any)\" or \"None\"\n",
        "        8. Window Broken: \"None\" or \"True (if any broken)\" or \"False (if all windows intact)\"\n",
        "        9. Shutters: \"None\" or \"Close (if all)\" or \"Open (if any)\"\n",
        "        10. Doorway Curtains: \"None\" or \"Unsecured\" or \"Secured (if any)\"\n",
        "        11. For Sale Sign: FALSE or TRUE\n",
        "        12. Address Number Condition: \"None\" or \"Decorative / Tiled (if any)\" or \"Not Updated\"\n",
        "        13. Chimney Smoke: FALSE or TRUE\n",
        "        14. Vehicle present in garage or private driveway: FALSE or TRUE\n",
        "        15. Hanging laundry: FALSE or TRUE\n",
        "        16. Personal Belongings Outside: \"None\" or \"Good Condition\" or \"Mixed Condition\" or \"Bad Condition\"\n",
        "        17. Mail accumulation: \"None\" or \"Minimal\" or \"Extensive\"\n",
        "        18. Plants / Gardens: \"None\" or \"Well maintained (any)\" or \"Overgrown/Dead\"\n",
        "        19. Perceived Balcony Damage: \"Mild Damage (cracking in plaster in facade)\" or \"No balcony\" or \"Severe Damage (visible rebar)\" or \"No Damage (good condition)\"\n",
        "        20. Perceived Private Staircase Damage: \"No private staircases\" or \"Severe Damage (missing stairs)\" or \"No Damage (good condition)\" or \"Mild Damage (rusted railings)\"\n",
        "        21. Perceived Shutter Damage: \"No Shutters\" or \"No Damage (good condition)\" or \"Mild Damage (needs to be repainted)\" or \"Severe Damage (rotting)\"\n",
        "        22. Door Board: \"None\" or \"Good Condition (any)\" or \"Bad Condition\"\n",
        "\n",
        "        Provide your answers as a numbered list, using ONLY the exact phrases from the options given. DO NOT write any additional text, introduction or explanation.\n",
        "        For example: 22. Door Board: \"None\"\n",
        "        \"\"\"\n",
        "        response = model.generate_content([prompt, image])\n",
        "        return response.text\n",
        "    except Exception as e:\n",
        "        print(f\"Error analyzing image: {str(e)}\")\n",
        "        return None"
      ]
    },
    {
      "cell_type": "markdown",
      "source": [
        "Assign the image path and start the analysis"
      ],
      "metadata": {
        "id": "o-p9v4LOJ4DL"
      }
    },
    {
      "cell_type": "code",
      "source": [
        "def process_analysis_result(result_string):\n",
        "    lines = result_string.split('\\n')\n",
        "    result_dict = {}\n",
        "    for line in lines:\n",
        "        parts = line.split(': ', 1)\n",
        "        if len(parts) == 2:\n",
        "            key = parts[0].strip().split('. ', 1)[-1]\n",
        "            value = parts[1].strip().strip('\"')\n",
        "            result_dict[key] = value\n",
        "    return result_dict"
      ],
      "metadata": {
        "id": "kZueWgHpZK8m"
      },
      "execution_count": 53,
      "outputs": []
    },
    {
      "cell_type": "code",
      "source": [
        "def calculate_occupancy_rating(result_dict):\n",
        "    point_system = {\n",
        "        \"Person present\": {\"FALSE\": 0, \"TRUE\": 4},\n",
        "        \"Dogs/Pets present\": {\"FALSE\": 0, \"TRUE\": 3},\n",
        "        \"Livestock present\": {\"FALSE\": 0, \"TRUE\": 2},\n",
        "        \"Sounds present inside\": {\"FALSE\": 0, \"TRUE\": 2},\n",
        "        \"Lights present inside\": {\"FALSE\": 0, \"TRUE\": 3},\n",
        "        \"Collapsed Roof\": {\"FALSE\": 0, \"TRUE\": -6},\n",
        "        \"Windows\": {\"No - Close (if all)\": 0, \"Yes - Open (if any)\": 2, \"None\": -3},\n",
        "        \"Window Broken\": {\"None\": 0, \"True (if any broken)\": -2, \"False (if all windows intact)\": 1},\n",
        "        \"Shutters\": {\"None\": 0, \"Close (if all)\": -1, \"Open (if any)\": 2},\n",
        "        \"Doorway Curtains\": {\"None\": 0, \"Unsecured\": 2, \"Secured (if any)\": 2},\n",
        "        \"For Sale Sign\": {\"FALSE\": 0, \"TRUE\": -2},\n",
        "        \"Address Number Condition\": {\"None\": 0, \"Decorative / Tiled (if any)\": 1, \"Not Updated\": 0},\n",
        "        \"Chimney Smoke\": {\"FALSE\": 0, \"TRUE\": 3},\n",
        "        \"Vehicle present in garage or private driveway\": {\"FALSE\": 0, \"TRUE\": 2},\n",
        "        \"Hanging laundry\": {\"FALSE\": 0, \"TRUE\": 4},\n",
        "        \"Personal Belongings Outside\": {\"None\": -1, \"Good Condition\": 3, \"Mixed Condition\": 2, \"Bad Condition\": -1},\n",
        "        \"Mail accumulation\": {\"None\": 0, \"Minimal\": -1, \"Extensive\": -1},\n",
        "        \"Plants / Gardens\": {\"None\": 0, \"Well maintained (any)\": 1, \"Overgrown/Dead\": -2},\n",
        "        \"Perceived Balcony Damage\": {\"Mild Damage (cracking in plaster in facade)\": 0, \"No balcony\": 0, \"Severe Damage (visible rebar)\": -3, \"No Damage (good condition)\": 2},\n",
        "        \"Perceived Private Staircase Damage\": {\"No private staircases\": 0, \"Severe Damage (missing stairs)\": -2, \"No Damage (good condition)\": 1, \"Mild Damage (rusted railings)\": 0},\n",
        "        \"Perceived Shutter Damage\": {\"No Shutters\": 0, \"No Damage (good condition)\": 1, \"Mild Damage (needs to be repainted)\": 0, \"Severe Damage (rotting)\": -2},\n",
        "        \"Door Board\": {\"None\": 0, \"Good Condition (any)\": 1, \"Bad Condition\": -2}\n",
        "    }\n",
        "    total_points = sum(point_system[key].get(value, 0) for key, value in result_dict.items() if key in point_system)\n",
        "    return total_points"
      ],
      "metadata": {
        "id": "-dgks0ZrSt2t"
      },
      "execution_count": 54,
      "outputs": []
    },
    {
      "cell_type": "code",
      "source": [
        "def process_folder(folder_path):\n",
        "    results = []\n",
        "    for filename in os.listdir(folder_path):\n",
        "        if filename.lower().endswith(('.png', '.jpg', '.jpeg', '.gif', '.bmp')):\n",
        "            image_path = os.path.join(folder_path, filename)\n",
        "            image = Image.open(image_path)\n",
        "            analysis_result = analyze_image(image)\n",
        "            if analysis_result:\n",
        "                processed_result = process_analysis_result(analysis_result)\n",
        "                results.append(processed_result)\n",
        "    return results"
      ],
      "metadata": {
        "id": "GoF_BSK6S3ns"
      },
      "execution_count": 55,
      "outputs": []
    },
    {
      "cell_type": "code",
      "source": [
        "def synthesize_results(results, folder_name):\n",
        "    if not results:\n",
        "        return {}\n",
        "\n",
        "    synthesized = {\"Building ID\": folder_name}\n",
        "\n",
        "    for key in results[0].keys():\n",
        "        if key == \"Building ID\":\n",
        "            continue\n",
        "\n",
        "        values = [result.get(key) for result in results if result.get(key)]\n",
        "\n",
        "        if key in [\"Person present\", \"Dogs/Pets present\", \"Livestock present\", \"Sounds present inside\",\n",
        "                   \"Lights present inside\", \"Collapsed Roof\", \"For Sale Sign\", \"Chimney Smoke\",\n",
        "                   \"Vehicle present in garage or private driveway\", \"Hanging laundry\"]:\n",
        "            synthesized[key] = \"TRUE\" if \"TRUE\" in values else \"FALSE\"\n",
        "\n",
        "        elif key in [\"Windows\", \"Shutters\"]:\n",
        "            if \"Yes - Open (if any)\" in values or \"Open (if any)\" in values:\n",
        "                synthesized[key] = \"Yes - Open (if any)\" if key == \"Windows\" else \"Open (if any)\"\n",
        "            elif \"No - Close (if all)\" in values or \"Close (if all)\" in values:\n",
        "                synthesized[key] = \"No - Close (if all)\" if key == \"Windows\" else \"Close (if all)\"\n",
        "            else:\n",
        "                synthesized[key] = \"None\"\n",
        "\n",
        "        elif key == \"Window Broken\":\n",
        "            if \"True (if any broken)\" in values:\n",
        "                synthesized[key] = \"True (if any broken)\"\n",
        "            elif \"False (if all windows intact)\" in values:\n",
        "                synthesized[key] = \"False (if all windows intact)\"\n",
        "            else:\n",
        "                synthesized[key] = \"None\"\n",
        "\n",
        "        elif key in [\"Doorway Curtains\", \"Personal Belongings Outside\", \"Mail accumulation\",\n",
        "                     \"Plants / Gardens\", \"Perceived Balcony Damage\", \"Perceived Private Staircase Damage\",\n",
        "                     \"Perceived Shutter Damage\", \"Door Board\"]:\n",
        "            value_priority = {\n",
        "                \"Doorway Curtains\": [\"Secured (if any)\", \"Unsecured\", \"None\"],\n",
        "                \"Personal Belongings Outside\": [\"Good Condition\", \"Mixed Condition\", \"Bad Condition\", \"None\"],\n",
        "                \"Mail accumulation\": [\"Extensive\", \"Minimal\", \"None\"],\n",
        "                \"Plants / Gardens\": [\"Well maintained (any)\", \"Overgrown/Dead\", \"None\"],\n",
        "                \"Perceived Balcony Damage\": [\"Severe Damage (visible rebar)\", \"Mild Damage (cracking in plaster in facade)\", \"No Damage (good condition)\", \"No balcony\"],\n",
        "                \"Perceived Private Staircase Damage\": [\"Severe Damage (missing stairs)\", \"Mild Damage (rusted railings)\", \"No Damage (good condition)\", \"No private staircases\"],\n",
        "                \"Perceived Shutter Damage\": [\"Severe Damage (rotting)\", \"Mild Damage (needs to be repainted)\", \"No Damage (good condition)\", \"No Shutters\"],\n",
        "                \"Door Board\": [\"Bad Condition\", \"Good Condition (any)\", \"None\"]\n",
        "            }\n",
        "            for priority_value in value_priority[key]:\n",
        "                if priority_value in values:\n",
        "                    synthesized[key] = priority_value\n",
        "                    break\n",
        "\n",
        "        else:  # For any other keys not specifically handled\n",
        "            synthesized[key] = max(set(values), key=values.count)\n",
        "\n",
        "    return synthesized"
      ],
      "metadata": {
        "id": "NNM11JKIS7Vd"
      },
      "execution_count": 56,
      "outputs": []
    },
    {
      "cell_type": "code",
      "source": [
        "def main(folder_path):\n",
        "    folder_name = os.path.basename(folder_path)\n",
        "    results = process_folder(folder_path)\n",
        "    synthesized_result = synthesize_results(results, folder_name)\n",
        "    occupancy_rating = calculate_occupancy_rating(synthesized_result)\n",
        "    synthesized_result[\"Occupancy Rating\"] = occupancy_rating\n",
        "    return json.dumps(synthesized_result, indent=2)"
      ],
      "metadata": {
        "id": "ZfuERhw6S90D"
      },
      "execution_count": 58,
      "outputs": []
    },
    {
      "cell_type": "code",
      "source": [
        "folder_path = \"/content/drive/MyDrive/Encouraging Reuse 2024: Fontainemore/100\"\n",
        "output = main(folder_path)\n",
        "print(output)"
      ],
      "metadata": {
        "colab": {
          "base_uri": "https://localhost:8080/",
          "height": 481
        },
        "id": "6TNbD6odTC29",
        "outputId": "e6464804-f266-46db-933b-19240f127c4d"
      },
      "execution_count": 60,
      "outputs": [
        {
          "output_type": "stream",
          "name": "stdout",
          "text": [
            "{\n",
            "  \"Building ID\": \"100\",\n",
            "  \"Person present\": \"FALSE\",\n",
            "  \"Dogs/Pets present\": \"FALSE\",\n",
            "  \"Livestock present\": \"FALSE\",\n",
            "  \"Sounds present inside\": \"FALSE\",\n",
            "  \"Lights present inside\": \"FALSE\",\n",
            "  \"Collapsed Roof\": \"FALSE\",\n",
            "  \"Windows\": \"Yes - Open (if any)\",\n",
            "  \"Window Broken\": \"None\",\n",
            "  \"Shutters\": \"Close (if all)\",\n",
            "  \"Doorway Curtains\": \"None\",\n",
            "  \"For Sale Sign\": \"FALSE\",\n",
            "  \"Civic Number Condition\": \"None\",\n",
            "  \"Chimney Smoke\": \"FALSE\",\n",
            "  \"Vehicle present in garage or private driveway\": \"FALSE\",\n",
            "  \"Hanging laundry\": \"FALSE\",\n",
            "  \"Personal Belongings Outside\": \"None\",\n",
            "  \"Mail accumulation\": \"None\",\n",
            "  \"Plants / Gardens\": \"Well maintained (any)\",\n",
            "  \"Perceived Balcony Damage\": \"No Damage (good condition)\",\n",
            "  \"Perceived Private Staircase Damage\": \"No private staircases\",\n",
            "  \"Perceived Shutter Damage\": \"No Damage (good condition)\",\n",
            "  \"Door Board\": \"None\",\n",
            "  \"Occupancy Rating\": 4\n",
            "}\n"
          ]
        }
      ]
    },
    {
      "cell_type": "markdown",
      "source": [],
      "metadata": {
        "id": "KF99MoD4ZKrn"
      }
    }
  ],
  "metadata": {
    "colab": {
      "provenance": [],
      "mount_file_id": "1Y2OpboMf5cymRZizZteXW0Gi0yKmQHZq",
      "authorship_tag": "ABX9TyP7Zko1pJRjjAS3mZazk2Er",
      "include_colab_link": true
    },
    "kernelspec": {
      "display_name": "Python 3",
      "name": "python3"
    },
    "language_info": {
      "name": "python"
    }
  },
  "nbformat": 4,
  "nbformat_minor": 0
}