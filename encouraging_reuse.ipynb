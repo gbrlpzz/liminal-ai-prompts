{
  "cells": [
    {
      "cell_type": "markdown",
      "metadata": {
        "id": "view-in-github",
        "colab_type": "text"
      },
      "source": [
        "<a href=\"https://colab.research.google.com/github/gbrlpzz/liminal-ai-prompts/blob/main/encouraging_reuse.ipynb\" target=\"_parent\"><img src=\"https://colab.research.google.com/assets/colab-badge.svg\" alt=\"Open In Colab\"/></a>"
      ]
    },
    {
      "cell_type": "markdown",
      "source": [
        "Imports"
      ],
      "metadata": {
        "id": "L42sCvXdJaVp"
      }
    },
    {
      "cell_type": "code",
      "execution_count": null,
      "metadata": {
        "id": "AffrgeQtLVNy",
        "colab": {
          "base_uri": "https://localhost:8080/"
        },
        "outputId": "4cece861-ddcc-4d36-cace-825e25aa76e4"
      },
      "outputs": [
        {
          "output_type": "stream",
          "name": "stdout",
          "text": [
            "google-generativeai version: 0.7.2\n"
          ]
        }
      ],
      "source": [
        "import google.generativeai as genai\n",
        "from google.colab import userdata\n",
        "import json\n",
        "import re\n",
        "from PIL import Image\n",
        "import os\n",
        "import io\n",
        "print(f\"google-generativeai version: {genai.__version__}\")"
      ]
    },
    {
      "cell_type": "markdown",
      "source": [
        "Load Drive"
      ],
      "metadata": {
        "id": "5g3eSD9TSi4a"
      }
    },
    {
      "cell_type": "code",
      "source": [
        "from google.colab import drive\n",
        "drive.mount('/content/drive')"
      ],
      "metadata": {
        "id": "GmmRGchuSUhg",
        "colab": {
          "base_uri": "https://localhost:8080/"
        },
        "outputId": "94b8c3c5-3a0e-446a-c168-06f00d620e7b"
      },
      "execution_count": null,
      "outputs": [
        {
          "output_type": "stream",
          "name": "stdout",
          "text": [
            "Drive already mounted at /content/drive; to attempt to forcibly remount, call drive.mount(\"/content/drive\", force_remount=True).\n"
          ]
        }
      ]
    },
    {
      "cell_type": "markdown",
      "source": [
        "API Key"
      ],
      "metadata": {
        "id": "we5dIBf1JgAd"
      }
    },
    {
      "cell_type": "code",
      "execution_count": null,
      "metadata": {
        "colab": {
          "base_uri": "https://localhost:8080/"
        },
        "id": "tFjNkqSFLZPf",
        "outputId": "6f224c7f-de92-40e0-860c-6db1cbc4e1e4"
      },
      "outputs": [
        {
          "output_type": "stream",
          "name": "stdout",
          "text": [
            "API Key (first 5 chars): AIzaS...\n"
          ]
        }
      ],
      "source": [
        "GOOGLE_API_KEY = userdata.get('KEY')\n",
        "genai.configure(api_key=GOOGLE_API_KEY)\n",
        "print(f\"API Key (first 5 chars): {GOOGLE_API_KEY[:5]}...\")"
      ]
    },
    {
      "cell_type": "markdown",
      "source": [
        "Test Connection and Load Model List"
      ],
      "metadata": {
        "id": "KiJEqxGRTcS9"
      }
    },
    {
      "cell_type": "code",
      "execution_count": null,
      "metadata": {
        "colab": {
          "base_uri": "https://localhost:8080/",
          "height": 392
        },
        "id": "bZyHNPQ5LcdU",
        "outputId": "2e754d69-d070-4a01-d5ce-a493ee7faa17",
        "collapsed": true
      },
      "outputs": [
        {
          "output_type": "stream",
          "name": "stdout",
          "text": [
            "Number of models available: 20\n",
            "- models/chat-bison-001\n",
            "- models/text-bison-001\n",
            "- models/embedding-gecko-001\n",
            "- models/gemini-1.0-pro-latest\n",
            "- models/gemini-1.0-pro\n",
            "- models/gemini-pro\n",
            "- models/gemini-1.0-pro-001\n",
            "- models/gemini-1.0-pro-vision-latest\n",
            "- models/gemini-pro-vision\n",
            "- models/gemini-1.5-pro-latest\n",
            "- models/gemini-1.5-pro-001\n",
            "- models/gemini-1.5-pro\n",
            "- models/gemini-1.5-pro-exp-0801\n",
            "- models/gemini-1.5-flash-latest\n",
            "- models/gemini-1.5-flash-001\n",
            "- models/gemini-1.5-flash\n",
            "- models/gemini-1.5-flash-001-tuning\n",
            "- models/embedding-001\n",
            "- models/text-embedding-004\n",
            "- models/aqa\n"
          ]
        }
      ],
      "source": [
        "try:\n",
        "    models = list(genai.list_models())\n",
        "    print(f\"Number of models available: {len(models)}\")\n",
        "    for model in models:\n",
        "        print(f\"- {model.name}\")\n",
        "except Exception as e:\n",
        "    print(f\"Error listing models: {str(e)}\")"
      ]
    },
    {
      "cell_type": "markdown",
      "source": [],
      "metadata": {
        "id": "-G-mAuQ6kZZA"
      }
    },
    {
      "cell_type": "markdown",
      "source": [
        "Load Model"
      ],
      "metadata": {
        "id": "B3uMyg6GJmnG"
      }
    },
    {
      "cell_type": "code",
      "execution_count": null,
      "metadata": {
        "colab": {
          "base_uri": "https://localhost:8080/"
        },
        "id": "1vVTj__CLyjk",
        "outputId": "23d21a8c-6591-4bfa-b0a0-df4386132aac"
      },
      "outputs": [
        {
          "output_type": "stream",
          "name": "stdout",
          "text": [
            "Model initialized successfully\n"
          ]
        }
      ],
      "source": [
        "try:\n",
        "    model = genai.GenerativeModel('gemini-1.5-pro-latest')\n",
        "    print(\"Model initialized successfully\")\n",
        "except Exception as e:\n",
        "    print(f\"Error initializing model: {str(e)}\")"
      ]
    },
    {
      "cell_type": "markdown",
      "source": [
        "Analyze Image"
      ],
      "metadata": {
        "id": "2UVXTg2GJtPv"
      }
    },
    {
      "cell_type": "code",
      "execution_count": null,
      "metadata": {
        "id": "0zvTncwBUC7m"
      },
      "outputs": [],
      "source": [
        "def analyze_image(image):\n",
        "    try:\n",
        "\n",
        "        model = genai.GenerativeModel('gemini-1.5-pro-latest')\n",
        "\n",
        "        # Prepare the prompt\n",
        "        prompt = \"\"\"\n",
        "        Analyze this image of a building and answer the following questions. For each question, choose ONLY from the provided options without providing any additional text:\n",
        "\n",
        "        1. Person present: FALSE or TRUE\n",
        "        2. Dogs/Pets present: FALSE or TRUE\n",
        "        3. Livestock present: FALSE or TRUE\n",
        "        4. Sounds present inside: FALSE or TRUE\n",
        "        5. Lights present inside: FALSE or TRUE\n",
        "        6. Collapsed Roof: FALSE or TRUE\n",
        "        7. Windows: \"No - Close (if all)\" or \"Yes - Open (if any)\" or \"None\"\n",
        "        8. Window Broken: \"None\" or \"True (if any broken)\" or \"False (if all windows intact)\"\n",
        "        9. Shutters: \"None\" or \"Close (if all)\" or \"Open (if any)\"\n",
        "        10. Doorway Curtains: \"None\" or \"Unsecured\" or \"Secured (if any)\"\n",
        "        11. For Sale Sign: FALSE or TRUE\n",
        "        12. Civic Number Condition: \"None\" or \"Decorative / Tiled (if any)\" or \"Not Updated\"\n",
        "        13. Chimney Smoke: FALSE or TRUE\n",
        "        14. Vehicle present in garage or private driveway: FALSE or TRUE\n",
        "        15. Hanging laundry: FALSE or TRUE\n",
        "        16. Personal Belongings Outside: \"None\" or \"Good Condition\" or \"Mixed Condition\" or \"Bad Condition\"\n",
        "        17. Mail accumulation: \"None\" or \"Minimal\" or \"Extensive\"\n",
        "        18. Plants / Gardens: \"None\" or \"Well maintained (any)\" or \"Overgrown/Dead\"\n",
        "        19. Perceived Balcony Damage: \"Mild Damage (cracking in plaster in facade)\" or \"No balcony\" or \"Severe Damage (visible rebar)\" or \"No Damage (good condition)\"\n",
        "        20. Perceived Private Staircase Damage: \"No private staircases\" or \"Severe Damage (missing stairs)\" or \"No Damage (good condition)\" or \"Mild Damage (rusted railings)\"\n",
        "        21. Perceived Shutter Damage: \"No Shutters\" or \"No Damage (good condition)\" or \"Mild Damage (needs to be repainted)\" or \"Severe Damage (rotting)\"\n",
        "        22. Door Board: \"None\" or \"Good Condition (any)\" or \"Bad Condition\"\n",
        "\n",
        "        Provide your answers as a numbered list, using ONLY the exact phrases from the options given. DO NOT write any additional text, introduction or explanation.\n",
        "        For examplea: 22. Door Board: \"None\"\n",
        "        \"\"\"\n",
        "\n",
        "        # Generate content\n",
        "        response = model.generate_content([prompt, image])\n",
        "        clean_response = response.text\n",
        "        return clean_response\n",
        "\n",
        "    except Exception as e:\n",
        "        print(f\"Error analyzing image: {str(e)}\")"
      ]
    },
    {
      "cell_type": "markdown",
      "source": [
        "Assign the image path and start the analysis"
      ],
      "metadata": {
        "id": "o-p9v4LOJ4DL"
      }
    },
    {
      "cell_type": "code",
      "source": [
        "image_path = \"/content/drive/MyDrive/Encouraging Reuse 2024: Fontainemore/100/17219223811500.jpeg\"  # Replace with your image path\n",
        "#image = compress_image(Image.open(image_path))\n",
        "image = Image.open(image_path)\n",
        "result = analyze_image(image)\n",
        "print(result)"
      ],
      "metadata": {
        "id": "3pknSSsxdxk9",
        "collapsed": true,
        "colab": {
          "base_uri": "https://localhost:8080/",
          "height": 410
        },
        "outputId": "eb1897ea-5790-4079-accf-d32a72081bf8"
      },
      "execution_count": 34,
      "outputs": [
        {
          "output_type": "stream",
          "name": "stdout",
          "text": [
            "1. Person present: FALSE\n",
            "2. Dogs/Pets present: FALSE\n",
            "3. Livestock present: FALSE\n",
            "4. Sounds present inside: FALSE\n",
            "5. Lights present inside: FALSE\n",
            "6. Collapsed Roof: FALSE\n",
            "7. Windows: \"No - Close (if all)\"\n",
            "8. Window Broken: \"None\"\n",
            "9. Shutters: \"None\"\n",
            "10. Doorway Curtains: \"None\"\n",
            "11. For Sale Sign: FALSE\n",
            "12. Civic Number Condition: \"None\"\n",
            "13. Chimney Smoke: FALSE\n",
            "14. Vehicle present in garage or private driveway: FALSE\n",
            "15. Hanging laundry: FALSE\n",
            "16. Personal Belongings Outside: \"None\"\n",
            "17. Mail accumulation: \"None\"\n",
            "18. Plants / Gardens: \"Well maintained (any)\"\n",
            "19. Perceived Balcony Damage: \"No balcony\"\n",
            "20. Perceived Private Staircase Damage: \"No private staircases\"\n",
            "21. Perceived Shutter Damage: \"No Shutters\"\n",
            "22. Door Board: \"None\"\n"
          ]
        }
      ]
    },
    {
      "cell_type": "code",
      "source": [
        "def process_analysis_result(result_string, image_path):\n",
        "    # Extract Building ID from image name\n",
        "    building_id = re.search(r'IMG_(\\d+)', image_path)\n",
        "    if building_id:\n",
        "        building_id = building_id.group(1)\n",
        "    else:\n",
        "        building_id = \"Unknown\"\n",
        "\n",
        "    # Split the string into lines\n",
        "    lines = result_string.split('\\n')\n",
        "\n",
        "    # Create a dictionary to store the results\n",
        "    result_dict = {\"Building ID\": building_id}\n",
        "\n",
        "    # Process each line\n",
        "    for line in lines:\n",
        "        # Split the line into key and value\n",
        "        parts = line.split(': ', 1)\n",
        "        if len(parts) == 2:\n",
        "            key = parts[0].strip().split('. ', 1)[-1]  # Remove the number at the start\n",
        "            value = parts[1].strip().strip('\"')  # Remove quotes\n",
        "            result_dict[key] = value\n",
        "\n",
        "    # Convert to JSON\n",
        "    json_result = json.dumps(result_dict, indent=2)\n",
        "    return json_result"
      ],
      "metadata": {
        "id": "kZueWgHpZK8m"
      },
      "execution_count": 35,
      "outputs": []
    },
    {
      "cell_type": "code",
      "source": [
        "json_result = process_analysis_result(result, image_path)\n",
        "print(json_result)"
      ],
      "metadata": {
        "colab": {
          "base_uri": "https://localhost:8080/"
        },
        "id": "pnZvhQdTZYXG",
        "outputId": "f3267689-280f-40ae-d16d-805068d5278f"
      },
      "execution_count": 36,
      "outputs": [
        {
          "output_type": "stream",
          "name": "stdout",
          "text": [
            "{\n",
            "  \"Building ID\": \"Unknown\",\n",
            "  \"Person present\": \"FALSE\",\n",
            "  \"Dogs/Pets present\": \"FALSE\",\n",
            "  \"Livestock present\": \"FALSE\",\n",
            "  \"Sounds present inside\": \"FALSE\",\n",
            "  \"Lights present inside\": \"FALSE\",\n",
            "  \"Collapsed Roof\": \"FALSE\",\n",
            "  \"Windows\": \"No - Close (if all)\",\n",
            "  \"Window Broken\": \"None\",\n",
            "  \"Shutters\": \"None\",\n",
            "  \"Doorway Curtains\": \"None\",\n",
            "  \"For Sale Sign\": \"FALSE\",\n",
            "  \"Civic Number Condition\": \"None\",\n",
            "  \"Chimney Smoke\": \"FALSE\",\n",
            "  \"Vehicle present in garage or private driveway\": \"FALSE\",\n",
            "  \"Hanging laundry\": \"FALSE\",\n",
            "  \"Personal Belongings Outside\": \"None\",\n",
            "  \"Mail accumulation\": \"None\",\n",
            "  \"Plants / Gardens\": \"Well maintained (any)\",\n",
            "  \"Perceived Balcony Damage\": \"No balcony\",\n",
            "  \"Perceived Private Staircase Damage\": \"No private staircases\",\n",
            "  \"Perceived Shutter Damage\": \"No Shutters\",\n",
            "  \"Door Board\": \"None\"\n",
            "}\n"
          ]
        }
      ]
    },
    {
      "cell_type": "code",
      "source": [
        "def calculate_occupancy_rating(result_dict):\n",
        "    point_system = {\n",
        "        \"Person present\": {\"FALSE\": 0, \"TRUE\": 4},\n",
        "        \"Dogs/Pets present\": {\"FALSE\": 0, \"TRUE\": 3},\n",
        "        \"Livestock present\": {\"FALSE\": 0, \"TRUE\": 2},\n",
        "        \"Sounds present inside\": {\"FALSE\": 0, \"TRUE\": 2},\n",
        "        \"Lights present inside\": {\"FALSE\": 0, \"TRUE\": 3},\n",
        "        \"Collapsed Roof\": {\"FALSE\": 0, \"TRUE\": -6},\n",
        "        \"Windows\": {\"No - Close (if all)\": 0, \"Yes - Open (if any)\": 2, \"None\": -3},\n",
        "        \"Window Broken\": {\"None\": 0, \"True (if any broken)\": -2, \"False (if all windows intact)\": 1},\n",
        "        \"Shutters\": {\"None\": 0, \"Close (if all)\": -1, \"Open (if any)\": 2},\n",
        "        \"Doorway Curtains\": {\"None\": 0, \"Unsecured\": 2, \"Secured (if any)\": 2},\n",
        "        \"For Sale Sign\": {\"FALSE\": 0, \"TRUE\": -2},\n",
        "        \"Civic Number Condition\": {\"None\": 0, \"Decorative / Tiled (if any)\": 1, \"Not Updated\": 0},\n",
        "        \"Chimney Smoke\": {\"FALSE\": 0, \"TRUE\": 3},\n",
        "        \"Vehicle present in garage or private driveway\": {\"FALSE\": 0, \"TRUE\": 2},\n",
        "        \"Hanging laundry\": {\"FALSE\": 0, \"TRUE\": 4},\n",
        "        \"Personal Belongings Outside\": {\"None\": -1, \"Good Condition\": 3, \"Mixed Condition\": 2, \"Bad Condition\": -1},\n",
        "        \"Mail accumulation\": {\"None\": 0, \"Minimal\": -1, \"Extensive\": -1},\n",
        "        \"Plants / Gardens\": {\"None\": 0, \"Well maintained (any)\": 1, \"Overgrown/Dead\": -2},\n",
        "        \"Perceived Balcony Damage\": {\"Mild Damage (cracking in plaster in facade)\": 0, \"No balcony\": 0, \"Severe Damage (visible rebar)\": -3, \"No Damage (good condition)\": 2},\n",
        "        \"Perceived Private Staircase Damage\": {\"No private staircases\": 0, \"Severe Damage (missing stairs)\": -2, \"No Damage (good condition)\": 1, \"Mild Damage (rusted railings)\": 0},\n",
        "        \"Perceived Shutter Damage\": {\"No Shutters\": 0, \"No Damage (good condition)\": 1, \"Mild Damage (needs to be repainted)\": 0, \"Severe Damage (rotting)\": -2},\n",
        "        \"Door Board\": {\"None\": 0, \"Good Condition (any)\": 1, \"Bad Condition\": -2}\n",
        "    }\n",
        "\n",
        "    total_points = 0\n",
        "    for key, value in result_dict.items():\n",
        "        if key in point_system:\n",
        "            total_points += point_system[key].get(value, 0)\n",
        "\n",
        "    return total_points\n",
        "\n",
        "def process_json_result(json_string):\n",
        "    # Parse the JSON string\n",
        "    result_dict = json.loads(json_string)\n",
        "\n",
        "    # Calculate occupancy rating\n",
        "    occupancy_rating = calculate_occupancy_rating(result_dict)\n",
        "    result_dict[\"Occupancy Rating\"] = occupancy_rating\n",
        "\n",
        "    # Convert back to JSON\n",
        "    updated_json_result = json.dumps(result_dict, indent=2)\n",
        "    return updated_json_result\n",
        "\n",
        "updated_result = process_json_result(json_result)\n",
        "print(updated_result)"
      ],
      "metadata": {
        "colab": {
          "base_uri": "https://localhost:8080/"
        },
        "id": "n-jxx4aJjkK5",
        "outputId": "fcb58cd1-fddc-4eae-8107-5f40ee76831b"
      },
      "execution_count": 37,
      "outputs": [
        {
          "output_type": "stream",
          "name": "stdout",
          "text": [
            "{\n",
            "  \"Building ID\": \"Unknown\",\n",
            "  \"Person present\": \"FALSE\",\n",
            "  \"Dogs/Pets present\": \"FALSE\",\n",
            "  \"Livestock present\": \"FALSE\",\n",
            "  \"Sounds present inside\": \"FALSE\",\n",
            "  \"Lights present inside\": \"FALSE\",\n",
            "  \"Collapsed Roof\": \"FALSE\",\n",
            "  \"Windows\": \"No - Close (if all)\",\n",
            "  \"Window Broken\": \"None\",\n",
            "  \"Shutters\": \"None\",\n",
            "  \"Doorway Curtains\": \"None\",\n",
            "  \"For Sale Sign\": \"FALSE\",\n",
            "  \"Civic Number Condition\": \"None\",\n",
            "  \"Chimney Smoke\": \"FALSE\",\n",
            "  \"Vehicle present in garage or private driveway\": \"FALSE\",\n",
            "  \"Hanging laundry\": \"FALSE\",\n",
            "  \"Personal Belongings Outside\": \"None\",\n",
            "  \"Mail accumulation\": \"None\",\n",
            "  \"Plants / Gardens\": \"Well maintained (any)\",\n",
            "  \"Perceived Balcony Damage\": \"No balcony\",\n",
            "  \"Perceived Private Staircase Damage\": \"No private staircases\",\n",
            "  \"Perceived Shutter Damage\": \"No Shutters\",\n",
            "  \"Door Board\": \"None\",\n",
            "  \"Occupancy Rating\": 0\n",
            "}\n"
          ]
        }
      ]
    },
    {
      "cell_type": "markdown",
      "source": [],
      "metadata": {
        "id": "KF99MoD4ZKrn"
      }
    }
  ],
  "metadata": {
    "colab": {
      "provenance": [],
      "mount_file_id": "1Y2OpboMf5cymRZizZteXW0Gi0yKmQHZq",
      "authorship_tag": "ABX9TyMHDLr9P6bLYLTTTpPUOHA5",
      "include_colab_link": true
    },
    "kernelspec": {
      "display_name": "Python 3",
      "name": "python3"
    },
    "language_info": {
      "name": "python"
    }
  },
  "nbformat": 4,
  "nbformat_minor": 0
}